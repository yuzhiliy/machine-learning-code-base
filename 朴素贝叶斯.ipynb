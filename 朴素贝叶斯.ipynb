{
 "cells": [
  {
   "cell_type": "markdown",
   "id": "06515d82",
   "metadata": {},
   "source": [
    "### 数据加载与探索"
   ]
  },
  {
   "cell_type": "code",
   "execution_count": 29,
   "id": "72a5929c",
   "metadata": {},
   "outputs": [
    {
     "name": "stdout",
     "output_type": "stream",
     "text": [
      "数据集维度: (5572, 2)\n",
      "前5条数据:\n",
      "   label                                               text\n",
      "0   ham  Go until jurong point, crazy.. Available only ...\n",
      "1   ham                      Ok lar... Joking wif u oni...\n",
      "2  spam  Free entry in 2 a wkly comp to win FA Cup fina...\n",
      "3   ham  U dun say so early hor... U c already then say...\n",
      "4   ham  Nah I don't think he goes to usf, he lives aro...\n",
      "\n",
      "标签分布:\n",
      " label\n",
      "ham     4825\n",
      "spam     747\n",
      "Name: count, dtype: int64\n"
     ]
    },
    {
     "name": "stderr",
     "output_type": "stream",
     "text": [
      "D:\\anaconda\\envs\\rurie\\Lib\\site-packages\\IPython\\core\\pylabtools.py:170: UserWarning: Glyph 25968 (\\N{CJK UNIFIED IDEOGRAPH-6570}) missing from font(s) DejaVu Sans.\n",
      "  fig.canvas.print_figure(bytes_io, **kw)\n",
      "D:\\anaconda\\envs\\rurie\\Lib\\site-packages\\IPython\\core\\pylabtools.py:170: UserWarning: Glyph 37327 (\\N{CJK UNIFIED IDEOGRAPH-91CF}) missing from font(s) DejaVu Sans.\n",
      "  fig.canvas.print_figure(bytes_io, **kw)\n",
      "D:\\anaconda\\envs\\rurie\\Lib\\site-packages\\IPython\\core\\pylabtools.py:170: UserWarning: Glyph 26631 (\\N{CJK UNIFIED IDEOGRAPH-6807}) missing from font(s) DejaVu Sans.\n",
      "  fig.canvas.print_figure(bytes_io, **kw)\n",
      "D:\\anaconda\\envs\\rurie\\Lib\\site-packages\\IPython\\core\\pylabtools.py:170: UserWarning: Glyph 31614 (\\N{CJK UNIFIED IDEOGRAPH-7B7E}) missing from font(s) DejaVu Sans.\n",
      "  fig.canvas.print_figure(bytes_io, **kw)\n",
      "D:\\anaconda\\envs\\rurie\\Lib\\site-packages\\IPython\\core\\pylabtools.py:170: UserWarning: Glyph 20998 (\\N{CJK UNIFIED IDEOGRAPH-5206}) missing from font(s) DejaVu Sans.\n",
      "  fig.canvas.print_figure(bytes_io, **kw)\n",
      "D:\\anaconda\\envs\\rurie\\Lib\\site-packages\\IPython\\core\\pylabtools.py:170: UserWarning: Glyph 24067 (\\N{CJK UNIFIED IDEOGRAPH-5E03}) missing from font(s) DejaVu Sans.\n",
      "  fig.canvas.print_figure(bytes_io, **kw)\n",
      "D:\\anaconda\\envs\\rurie\\Lib\\site-packages\\IPython\\core\\pylabtools.py:170: UserWarning: Glyph 65288 (\\N{FULLWIDTH LEFT PARENTHESIS}) missing from font(s) DejaVu Sans.\n",
      "  fig.canvas.print_figure(bytes_io, **kw)\n",
      "D:\\anaconda\\envs\\rurie\\Lib\\site-packages\\IPython\\core\\pylabtools.py:170: UserWarning: Glyph 27491 (\\N{CJK UNIFIED IDEOGRAPH-6B63}) missing from font(s) DejaVu Sans.\n",
      "  fig.canvas.print_figure(bytes_io, **kw)\n",
      "D:\\anaconda\\envs\\rurie\\Lib\\site-packages\\IPython\\core\\pylabtools.py:170: UserWarning: Glyph 24120 (\\N{CJK UNIFIED IDEOGRAPH-5E38}) missing from font(s) DejaVu Sans.\n",
      "  fig.canvas.print_figure(bytes_io, **kw)\n",
      "D:\\anaconda\\envs\\rurie\\Lib\\site-packages\\IPython\\core\\pylabtools.py:170: UserWarning: Glyph 37038 (\\N{CJK UNIFIED IDEOGRAPH-90AE}) missing from font(s) DejaVu Sans.\n",
      "  fig.canvas.print_figure(bytes_io, **kw)\n",
      "D:\\anaconda\\envs\\rurie\\Lib\\site-packages\\IPython\\core\\pylabtools.py:170: UserWarning: Glyph 20214 (\\N{CJK UNIFIED IDEOGRAPH-4EF6}) missing from font(s) DejaVu Sans.\n",
      "  fig.canvas.print_figure(bytes_io, **kw)\n",
      "D:\\anaconda\\envs\\rurie\\Lib\\site-packages\\IPython\\core\\pylabtools.py:170: UserWarning: Glyph 65292 (\\N{FULLWIDTH COMMA}) missing from font(s) DejaVu Sans.\n",
      "  fig.canvas.print_figure(bytes_io, **kw)\n",
      "D:\\anaconda\\envs\\rurie\\Lib\\site-packages\\IPython\\core\\pylabtools.py:170: UserWarning: Glyph 22403 (\\N{CJK UNIFIED IDEOGRAPH-5783}) missing from font(s) DejaVu Sans.\n",
      "  fig.canvas.print_figure(bytes_io, **kw)\n",
      "D:\\anaconda\\envs\\rurie\\Lib\\site-packages\\IPython\\core\\pylabtools.py:170: UserWarning: Glyph 22334 (\\N{CJK UNIFIED IDEOGRAPH-573E}) missing from font(s) DejaVu Sans.\n",
      "  fig.canvas.print_figure(bytes_io, **kw)\n",
      "D:\\anaconda\\envs\\rurie\\Lib\\site-packages\\IPython\\core\\pylabtools.py:170: UserWarning: Glyph 31867 (\\N{CJK UNIFIED IDEOGRAPH-7C7B}) missing from font(s) DejaVu Sans.\n",
      "  fig.canvas.print_figure(bytes_io, **kw)\n",
      "D:\\anaconda\\envs\\rurie\\Lib\\site-packages\\IPython\\core\\pylabtools.py:170: UserWarning: Glyph 21035 (\\N{CJK UNIFIED IDEOGRAPH-522B}) missing from font(s) DejaVu Sans.\n",
      "  fig.canvas.print_figure(bytes_io, **kw)\n"
     ]
    },
    {
     "data": {
      "image/png": "[encoded data removed]",
      "text/plain": [
       "<Figure size 640x480 with 1 Axes>"
      ]
     },
     "metadata": {},
     "output_type": "display_data"
    }
   ],
   "source": [
    "import numpy as np\n",
    "import pandas as pd\n",
    "import matplotlib.pyplot as plt\n",
    "\n",
    "file_path = r\"D:\\AIdata\\spam.csv\"\n",
    "df = pd.read_csv(file_path, encoding='latin-1')\n",
    "df = df[['v1', 'v2']]  # 只保留标签和文本列\n",
    "df.columns = ['label', 'text'] # 重命名列\n",
    "\n",
    "# 查看数据基本信息\n",
    "print(\"数据集维度:\", df.shape)\n",
    "print(\"前5条数据:\\n\", df.head())\n",
    "print(\"\\n标签分布:\\n\", df['label'].value_counts())\n",
    "\n",
    "# 可视化标签分布\n",
    "df['label'].value_counts().plot(kind='bar', color=['skyblue', 'orange'])\n",
    "plt.title(\"标签分布（ham=正常邮件， spam=垃圾邮件\")\n",
    "plt.xlabel(\"类别\")\n",
    "plt.ylabel(\"数量\")\n",
    "plt.show()"
   ]
  },
  {
   "cell_type": "markdown",
   "id": "3d3eb1e9",
   "metadata": {},
   "source": [
    "### 数据预处理"
   ]
  },
  {
   "cell_type": "code",
   "execution_count": 30,
   "id": "ce0181b7",
   "metadata": {},
   "outputs": [
    {
     "name": "stdout",
     "output_type": "stream",
     "text": [
      "\n",
      "训练集维度: (4457, 7735)\n",
      "测试集维度: (1115, 7735)\n",
      "NaN in y_train: 0\n",
      "NaN in X_train_vec: 0\n"
     ]
    }
   ],
   "source": [
    "from sklearn.model_selection import train_test_split\n",
    "from sklearn.feature_extraction.text import CountVectorizer\n",
    "\n",
    "# 将标签转为二进制\n",
    "df['label'] = df['label'].map({'ham':0, 'spam':1})\n",
    "\n",
    "# 划分数据集\n",
    "X_train, X_test, y_train, y_test = train_test_split(df['text'], df['label'], test_size=0.2, random_state=42)\n",
    "\n",
    "# 文本向量化（将文本转换为词频矩阵）\n",
    "vectorizer = CountVectorizer()\n",
    "X_train_vec = vectorizer.fit_transform(X_train)  # 训练集向量化\n",
    "X_test_vec = vectorizer.transform(X_test)  # 测试集向量化\n",
    "\n",
    "print(\"\\n训练集维度:\", X_train_vec.shape)\n",
    "print(\"测试集维度:\", X_test_vec.shape)\n",
    "\n",
    "print(\"NaN in y_train:\", np.isnan(y_train).sum())\n",
    "print(\"NaN in X_train_vec:\", np.isnan(X_train_vec.toarray()).sum())\n"
   ]
  },
  {
   "cell_type": "markdown",
   "id": "e5b47fea",
   "metadata": {},
   "source": [
    "### 手动实现朴素贝叶斯\n"
   ]
  },
  {
   "cell_type": "code",
   "execution_count": 31,
   "id": "ead76255",
   "metadata": {
    "scrolled": true
   },
   "outputs": [],
   "source": [
    "class NaiveBayesManual:\n",
    "    def __init__(self):\n",
    "        self.class_probs = {} # 类别先验概率P(y)\n",
    "        self.word_probs = {} # 条件概率P(x∣y)（每个词在类别中的概率）\n",
    "        \n",
    "    def fit(self, X, y):\n",
    "        \"\"\"训练模型：计算类别先验概率和条件概率\"\"\"\n",
    "        n_samples, n_features = X.shape\n",
    "        self.classes = np.unique(y) # 去重后的 y\n",
    "        \n",
    "        # 计算类别先验概率\n",
    "        for cls in self.classes:\n",
    "            self.class_probs[cls] = (np.sum(y == cls) + 1) / (n_samples + len(self.classes))\n",
    "            \n",
    "        # 计算条件概率（拉普拉斯平滑）\n",
    "        self.word_probs = {cls: np.ones(n_features) for cls in self.classes} # 用全1向量初始化，确保每个类别都有概率\n",
    "        \n",
    "        for cls in self.classes:\n",
    "            X_cls = X[y == cls]  # 提取X中属于cls类别的样本\n",
    "            if X_cls.shape[0] == 0:  # 确保X_cls不是空的\n",
    "                print(f\"Warning: No samples found for class {cls}\")\n",
    "                continue\n",
    "            total_words = X_cls.sum(axis=0) + 1 # 拉普拉斯平滑\n",
    "            self.word_probs[cls] = (total_words + 1) / (np.sum(total_words) + n_features)\n",
    "            \n",
    "    def predict(self, X):\n",
    "        \"\"\"预测测试集\"\"\"\n",
    "        y_pred = []\n",
    "        \"\"\"遍历X中每个样本x，计算其属于每个类别的后验概率（即P(y∣x)）\"\"\"\n",
    "        for x in X:\n",
    "            posteriors = {}\n",
    "            for cls in self.classes:\n",
    "                if cls not in self.word_probs or np.isnan(self.class_probs[cls]):\n",
    "                    continue  # 避免 NaN\n",
    "                word_prob = np.where(self.word_probs[cls] > 0, self.word_probs[cls], 1e-9)  # 避免 log(0)\n",
    "                # 计算后验概率（对数形式避免下溢）\n",
    "                posterior = np.log(self.class_probs[cls]) + np.sum(np.log(self.word_probs[cls]) * x)\n",
    "                posteriors[cls] = posterior\n",
    "            # 选择后概率最大的类别\n",
    "            if posteriors:\n",
    "                y_pred.append(max(posteriors, key=posteriors.get))\n",
    "            else:\n",
    "                y_pred.append(self.classes[0])  # 备用默认类别\n",
    "        return np.array(y_pred)\n",
    "    \n",
    "# 训练手动实现的模型\n",
    "manual_nb = NaiveBayesManual()\n",
    "manual_nb.fit(X_train_vec.toarray(), y_train)\n",
    "\n",
    "# 预测测试集\n",
    "y_pred_manual = manual_nb.predict(X_test_vec.toarray())\n",
    "\n"
   ]
  },
  {
   "cell_type": "markdown",
   "id": "1467bbb9",
   "metadata": {},
   "source": [
    "### sklearn实现"
   ]
  },
  {
   "cell_type": "code",
   "execution_count": 32,
   "id": "7a7d19b4",
   "metadata": {},
   "outputs": [
    {
     "name": "stdout",
     "output_type": "stream",
     "text": [
      "\n",
      "类别先验概率: [-0.14380871 -2.01031406]\n",
      "条件概率（部分）:\n",
      " [[-10.96028777 -10.96028777 -10.26714059 -10.96028777 -10.96028777]\n",
      " [ -7.78940856  -6.8085793   -9.98663313  -8.88802084  -9.29348595]]\n"
     ]
    }
   ],
   "source": [
    "from sklearn.naive_bayes import MultinomialNB\n",
    "sklearn_nb = MultinomialNB()\n",
    "sklearn_nb.fit(X_train_vec, y_train)\n",
    "\n",
    "# 预测数据集\n",
    "y_pred_sklearn = sklearn_nb.predict(X_test_vec)\n",
    "\n",
    "# 查看模型参数（类别先验概率和条件概率）\n",
    "print(\"\\n类别先验概率:\", sklearn_nb.class_log_prior_)\n",
    "print(\"条件概率（部分）:\\n\", sklearn_nb.feature_log_prob_[:, :5])"
   ]
  },
  {
   "cell_type": "markdown",
   "id": "2e6c3ae1",
   "metadata": {},
   "source": [
    "### 模型评估与对比"
   ]
  },
  {
   "cell_type": "code",
   "execution_count": 33,
   "id": "c776712b",
   "metadata": {},
   "outputs": [
    {
     "name": "stdout",
     "output_type": "stream",
     "text": [
      "\n",
      "[手动实现朴素贝叶斯] 准确率: 0.978\n",
      "[手动实现朴素贝叶斯] 混淆矩阵:\n",
      " [[962   3]\n",
      " [ 21 129]]\n",
      "[手动实现朴素贝叶斯] 分类报告:\n",
      "               precision    recall  f1-score   support\n",
      "\n",
      "         ham       0.98      1.00      0.99       965\n",
      "        spam       0.98      0.86      0.91       150\n",
      "\n",
      "    accuracy                           0.98      1115\n",
      "   macro avg       0.98      0.93      0.95      1115\n",
      "weighted avg       0.98      0.98      0.98      1115\n",
      "\n",
      "\n",
      "[Scikit-learn朴素贝叶斯] 准确率: 0.984\n",
      "[Scikit-learn朴素贝叶斯] 混淆矩阵:\n",
      " [[963   2]\n",
      " [ 16 134]]\n",
      "[Scikit-learn朴素贝叶斯] 分类报告:\n",
      "               precision    recall  f1-score   support\n",
      "\n",
      "         ham       0.98      1.00      0.99       965\n",
      "        spam       0.99      0.89      0.94       150\n",
      "\n",
      "    accuracy                           0.98      1115\n",
      "   macro avg       0.98      0.95      0.96      1115\n",
      "weighted avg       0.98      0.98      0.98      1115\n",
      "\n"
     ]
    }
   ],
   "source": [
    "def evaluate_model(y_true, y_pred, model_name):\n",
    "    acc = accuracy_score(y_true, y_pred)\n",
    "    cm = confusion_matrix(y_true, y_pred)\n",
    "    report = classification_report(y_true, y_pred, target_names=['ham', 'spam'])\n",
    "    \n",
    "    print(f\"\\n[{model_name}] 准确率: {acc:.3f}\")\n",
    "    print(f\"[{model_name}] 混淆矩阵:\\n\", cm)\n",
    "    print(f\"[{model_name}] 分类报告:\\n\", report)\n",
    "\n",
    "# 对比两个模型\n",
    "evaluate_model(y_test, y_pred_manual, \"手动实现朴素贝叶斯\")\n",
    "evaluate_model(y_test, y_pred_sklearn, \"Scikit-learn朴素贝叶斯\")"
   ]
  },
  {
   "cell_type": "code",
   "execution_count": null,
   "id": "92837a11",
   "metadata": {},
   "outputs": [],
   "source": []
  }
 ],
 "metadata": {
  "kernelspec": {
   "display_name": "Python 3 (ipykernel)",
   "language": "python",
   "name": "python3"
  },
  "language_info": {
   "codemirror_mode": {
    "name": "ipython",
    "version": 3
   },
   "file_extension": ".py",
   "mimetype": "text/x-python",
   "name": "python",
   "nbconvert_exporter": "python",
   "pygments_lexer": "ipython3",
   "version": "3.11.11"
  }
 },
 "nbformat": 4,
 "nbformat_minor": 5
}
